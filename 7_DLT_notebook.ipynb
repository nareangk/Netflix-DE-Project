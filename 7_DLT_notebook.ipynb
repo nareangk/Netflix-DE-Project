{
 "cells": [
  {
   "cell_type": "code",
   "execution_count": 0,
   "metadata": {
    "application/vnd.databricks.v1+cell": {
     "cellMetadata": {},
     "inputWidgets": {},
     "nuid": "3d05e4eb-4a8e-4409-99b8-b5efacd6b6a9",
     "showTitle": false,
     "tableResultSettingsMap": {},
     "title": ""
    }
   },
   "outputs": [],
   "source": [
    "lookup_rules={\n",
    "    \"rule1\" : \"show_id is not null\"\n",
    "}"
   ]
  },
  {
   "cell_type": "code",
   "execution_count": 0,
   "metadata": {
    "application/vnd.databricks.v1+cell": {
     "cellMetadata": {
      "byteLimit": 2048000,
      "rowLimit": 10000
     },
     "inputWidgets": {},
     "nuid": "48b68cdb-93a3-4a50-8003-48ae50f5f2fb",
     "showTitle": false,
     "tableResultSettingsMap": {},
     "title": ""
    }
   },
   "outputs": [
    {
     "output_type": "display_data",
     "data": {
      "text/plain": [
       "\u001B[0;31m---------------------------------------------------------------------------\u001B[0m\n",
       "\u001B[0;31mNameError\u001B[0m                                 Traceback (most recent call last)\n",
       "File \u001B[0;32m<command-6491207876578689>, line 1\u001B[0m\n",
       "\u001B[0;32m----> 1\u001B[0m \u001B[38;5;129m@dlt\u001B[39m\u001B[38;5;241m.\u001B[39mtable(\n",
       "\u001B[1;32m      2\u001B[0m     name\u001B[38;5;241m=\u001B[39m\u001B[38;5;124m\"\u001B[39m\u001B[38;5;124mgold_netflixcountries\u001B[39m\u001B[38;5;124m\"\u001B[39m\n",
       "\u001B[1;32m      3\u001B[0m )\n",
       "\u001B[1;32m      4\u001B[0m \n",
       "\u001B[1;32m      5\u001B[0m \u001B[38;5;28;01mdef\u001B[39;00m \u001B[38;5;21mmyfun\u001B[39m():\n",
       "\u001B[1;32m      6\u001B[0m     df\u001B[38;5;241m=\u001B[39mspark\u001B[38;5;241m.\u001B[39mreadStream(\u001B[38;5;124m\"\u001B[39m\u001B[38;5;124mabfss://silver@netflixstroageaccount.dfs.core.windows.net/Netflix_countries\u001B[39m\u001B[38;5;124m\"\u001B[39m)\n",
       "\u001B[1;32m      7\u001B[0m     \u001B[38;5;28;01mreturn\u001B[39;00m df\n",
       "\n",
       "\u001B[0;31mNameError\u001B[0m: name 'dlt' is not defined"
      ]
     },
     "metadata": {
      "application/vnd.databricks.v1+output": {
       "addedWidgets": {},
       "arguments": {},
       "datasetInfos": [],
       "jupyterProps": {
        "ename": "NameError",
        "evalue": "name 'dlt' is not defined"
       },
       "metadata": {
        "errorSummary": "<span class='ansi-red-fg'>NameError</span>: name 'dlt' is not defined"
       },
       "removedWidgets": [],
       "sqlProps": null,
       "stackFrames": [
        "\u001B[0;31m---------------------------------------------------------------------------\u001B[0m",
        "\u001B[0;31mNameError\u001B[0m                                 Traceback (most recent call last)",
        "File \u001B[0;32m<command-6491207876578689>, line 1\u001B[0m\n\u001B[0;32m----> 1\u001B[0m \u001B[38;5;129m@dlt\u001B[39m\u001B[38;5;241m.\u001B[39mtable(\n\u001B[1;32m      2\u001B[0m     name\u001B[38;5;241m=\u001B[39m\u001B[38;5;124m\"\u001B[39m\u001B[38;5;124mgold_netflixcountries\u001B[39m\u001B[38;5;124m\"\u001B[39m\n\u001B[1;32m      3\u001B[0m )\n\u001B[1;32m      4\u001B[0m \n\u001B[1;32m      5\u001B[0m \u001B[38;5;28;01mdef\u001B[39;00m \u001B[38;5;21mmyfun\u001B[39m():\n\u001B[1;32m      6\u001B[0m     df\u001B[38;5;241m=\u001B[39mspark\u001B[38;5;241m.\u001B[39mreadStream(\u001B[38;5;124m\"\u001B[39m\u001B[38;5;124mabfss://silver@netflixstroageaccount.dfs.core.windows.net/Netflix_countries\u001B[39m\u001B[38;5;124m\"\u001B[39m)\n\u001B[1;32m      7\u001B[0m     \u001B[38;5;28;01mreturn\u001B[39;00m df\n",
        "\u001B[0;31mNameError\u001B[0m: name 'dlt' is not defined"
       ],
       "type": "baseError"
      }
     },
     "output_type": "display_data"
    }
   ],
   "source": [
    "@dlt.table(\n",
    "    name=\"gold_netflixcountries\"\n",
    ")\n",
    "\n",
    "@dlt.expect_all_or_drop(lookup_rules)\n",
    "def myfun():\n",
    "    df=spark.readStream.format(\"delta\").load(\"abfss://silver@netflixstroageaccount.dfs.core.windows.net/Netflix_countries\")\n",
    "    return df"
   ]
  },
  {
   "cell_type": "code",
   "execution_count": 0,
   "metadata": {
    "application/vnd.databricks.v1+cell": {
     "cellMetadata": {},
     "inputWidgets": {},
     "nuid": "3287d77c-0a07-46a8-8c77-40f3d6575f3d",
     "showTitle": false,
     "tableResultSettingsMap": {},
     "title": ""
    }
   },
   "outputs": [],
   "source": [
    "@dlt.table(\n",
    "    name=\"gold_netflixdirectors\"\n",
    ")\n",
    "\n",
    "@dlt.expect_all_or_drop(lookup_rules)\n",
    "def myfun():\n",
    "    df=spark.readStream.format(\"delta\").load(\"abfss://silver@netflixstroageaccount.dfs.core.windows.net/Netflix_Directors\")\n",
    "    return df"
   ]
  },
  {
   "cell_type": "code",
   "execution_count": 0,
   "metadata": {
    "application/vnd.databricks.v1+cell": {
     "cellMetadata": {},
     "inputWidgets": {},
     "nuid": "a44f8928-a2cb-4afd-88bf-ec93c7c3fed6",
     "showTitle": false,
     "tableResultSettingsMap": {},
     "title": ""
    }
   },
   "outputs": [],
   "source": [
    "@dlt.table(\n",
    "    name=\"gold_netflixcast\"\n",
    ")\n",
    "\n",
    "@dlt.expect_all_or_drop(lookup_rules)\n",
    "def myfun():\n",
    "    df=spark.readStream.format(\"delta\").load(\"abfss://silver@netflixstroageaccount.dfs.core.windows.net/Netflix_cast\")\n",
    "    return df"
   ]
  },
  {
   "cell_type": "code",
   "execution_count": 0,
   "metadata": {
    "application/vnd.databricks.v1+cell": {
     "cellMetadata": {},
     "inputWidgets": {},
     "nuid": "660a724d-defb-4a1d-bcf9-405a65adf43e",
     "showTitle": false,
     "tableResultSettingsMap": {},
     "title": ""
    }
   },
   "outputs": [],
   "source": [
    "@dlt.table(\n",
    "    name=\"gold_netflixcategory\"\n",
    ")\n",
    "\n",
    "@dlt.expect_all_or_drop(lookup_rules)\n",
    "def myfun():\n",
    "    df=spark.readStream.format(\"delta\").load(\"abfss://silver@netflixstroageaccount.dfs.core.windows.net/Netflix_category\")\n",
    "    return df"
   ]
  },
  {
   "cell_type": "code",
   "execution_count": 0,
   "metadata": {
    "application/vnd.databricks.v1+cell": {
     "cellMetadata": {},
     "inputWidgets": {},
     "nuid": "2b1f1b45-13ec-4e8e-8f75-8a8dad4d4d92",
     "showTitle": false,
     "tableResultSettingsMap": {},
     "title": ""
    }
   },
   "outputs": [],
   "source": [
    "@dlt.table\n",
    "\n",
    "def gold_stg_netflixtitles():\n",
    "    df=spark.readStream.format(\"delta\").load(\"abfss://silver@netflixstroageaccount.dfs.core.windows.net/Netflix_titles\")\n",
    "    return df"
   ]
  },
  {
   "cell_type": "code",
   "execution_count": 0,
   "metadata": {
    "application/vnd.databricks.v1+cell": {
     "cellMetadata": {},
     "inputWidgets": {},
     "nuid": "3a8adf35-f226-4a59-98a8-6e3323946ce1",
     "showTitle": false,
     "tableResultSettingsMap": {},
     "title": ""
    }
   },
   "outputs": [],
   "source": [
    "from pyspark.sql.functions import *"
   ]
  },
  {
   "cell_type": "code",
   "execution_count": 0,
   "metadata": {
    "application/vnd.databricks.v1+cell": {
     "cellMetadata": {},
     "inputWidgets": {},
     "nuid": "e999cd6b-5b5c-49ea-abee-c2a7d87e6a1d",
     "showTitle": false,
     "tableResultSettingsMap": {},
     "title": ""
    }
   },
   "outputs": [],
   "source": [
    "@dlt.view\n",
    "\n",
    "def gold_trans_netflixtitles():\n",
    "    df= spark.readStream.table(\"Live.gold_stg_netflixtitles\")\n",
    "    df=df.withColumn(\"newflag\",lit(1))\n",
    "    return df"
   ]
  },
  {
   "cell_type": "code",
   "execution_count": 0,
   "metadata": {
    "application/vnd.databricks.v1+cell": {
     "cellMetadata": {},
     "inputWidgets": {},
     "nuid": "1b8e659b-e879-493f-a24c-40072b96e8ca",
     "showTitle": false,
     "tableResultSettingsMap": {},
     "title": ""
    }
   },
   "outputs": [],
   "source": [
    "master_data_rules={\n",
    "    \"rule1\" : \"newflag is not null\"\n",
    "    \"rule2\" : \"show_id is not null\"\n",
    "}"
   ]
  },
  {
   "cell_type": "code",
   "execution_count": 0,
   "metadata": {
    "application/vnd.databricks.v1+cell": {
     "cellMetadata": {},
     "inputWidgets": {},
     "nuid": "5f87cf7d-ff4a-46bb-8869-ad54ac4a8fe1",
     "showTitle": false,
     "tableResultSettingsMap": {},
     "title": ""
    }
   },
   "outputs": [],
   "source": [
    "@dlt.table\n",
    "\n",
    "dlt.expect_all_or_drop(master_data_rules)\n",
    "def gold_netflixtitles():\n",
    "    df=spark.readStream.table(\"gold_trans_netflixtitles\")\n",
    "    return df"
   ]
  }
 ],
 "metadata": {
  "application/vnd.databricks.v1+notebook": {
   "computePreferences": null,
   "dashboards": [],
   "environmentMetadata": {
    "base_environment": "",
    "environment_version": "2"
   },
   "inputWidgetPreferences": null,
   "language": "python",
   "notebookMetadata": {
    "pythonIndentUnit": 4
   },
   "notebookName": "7_DLT_notebook",
   "widgets": {}
  },
  "language_info": {
   "name": "python"
  }
 },
 "nbformat": 4,
 "nbformat_minor": 0
}